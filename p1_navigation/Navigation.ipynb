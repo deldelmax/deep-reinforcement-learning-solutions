{
 "cells": [
  {
   "cell_type": "code",
   "execution_count": null,
   "metadata": {},
   "outputs": [],
   "source": [
    "%load_ext autoreload\n",
    "%autoreload 2"
   ]
  },
  {
   "cell_type": "code",
   "execution_count": null,
   "metadata": {},
   "outputs": [],
   "source": [
    "from banana_env import BananaEnv\n",
    "import numpy as np"
   ]
  },
  {
   "cell_type": "code",
   "execution_count": null,
   "metadata": {},
   "outputs": [],
   "source": [
    "env = BananaEnv(\"Banana_Windows_x86_64\\Banana.exe\")"
   ]
  },
  {
   "cell_type": "code",
   "execution_count": null,
   "metadata": {},
   "outputs": [],
   "source": [
    "# reset the environment\n",
    "obs = env.reset(options={\"train_mode\": True})\n",
    "\n",
    "# number of actions\n",
    "action_size = env.nA\n",
    "print('Number of actions:', action_size)\n",
    "\n",
    "# examine the state space \n",
    "state = env.nS\n",
    "print('States look like:', state)\n",
    "state_size = len(obs)\n",
    "print('States have length:', state_size)"
   ]
  },
  {
   "cell_type": "code",
   "execution_count": null,
   "metadata": {},
   "outputs": [],
   "source": [
    "state = env.reset(options={\"train_mode\": False}) # reset the environment\n",
    "score = 0                                          # initialize the score\n",
    "while True:\n",
    "    action = np.random.randint(action_size)        # select an action\n",
    "    next_state, reward, done, _ = env.step(action)        # send the action to the environment\n",
    "    score += reward                                # update the score\n",
    "    state = next_state                             # roll over the state to next time step\n",
    "    if done:                                       # exit loop if episode finished\n",
    "        break\n",
    "    \n",
    "print(\"Score: {}\".format(score))"
   ]
  },
  {
   "cell_type": "code",
   "execution_count": null,
   "metadata": {},
   "outputs": [],
   "source": [
    "env.close()"
   ]
  },
  {
   "cell_type": "markdown",
   "metadata": {},
   "source": []
  },
  {
   "cell_type": "markdown",
   "metadata": {},
   "source": [
    "Lets Go"
   ]
  },
  {
   "cell_type": "code",
   "execution_count": 6,
   "metadata": {},
   "outputs": [
    {
     "name": "stderr",
     "output_type": "stream",
     "text": [
      "INFO:unityagents:\n",
      "'Academy' started successfully!\n",
      "Unity Academy name: Academy\n",
      "        Number of Brains: 1\n",
      "        Number of External Brains : 1\n",
      "        Lesson number : 0\n",
      "        Reset Parameters :\n",
      "\t\t\n",
      "Unity brain name: BananaBrain\n",
      "        Number of Visual Observations (per agent): 0\n",
      "        Vector Observation space type: continuous\n",
      "        Vector Observation space size (per agent): 37\n",
      "        Number of stacked Vector Observation: 1\n",
      "        Vector Action space type: discrete\n",
      "        Vector Action space size (per agent): 4\n",
      "        Vector Action descriptions: , , , \n"
     ]
    }
   ],
   "source": [
    "from dqn_agent import Agent\n",
    "import gym\n",
    "import random\n",
    "import torch\n",
    "import numpy as np\n",
    "from collections import deque\n",
    "import matplotlib.pyplot as plt\n",
    "from banana_env import BananaEnv\n",
    "import numpy as np\n",
    "\n",
    "%load_ext autoreload\n",
    "%autoreload 2\n",
    "\n",
    "env = BananaEnv(\"Banana_Windows_x86_64\\Banana.exe\")\n",
    "seed = 0"
   ]
  },
  {
   "cell_type": "code",
   "execution_count": 7,
   "metadata": {},
   "outputs": [],
   "source": [
    "# adapted from https://github.com/huggingface/transformers/blob/6e535425feae20ca61a8b10ae5e8a7fab4d394ba/src/transformers/optimization.py#L104\n",
    "\n",
    "from dataclasses import dataclass\n",
    "import math\n",
    "\n",
    "@dataclass\n",
    "class CosWarmupScheduler:\n",
    "    num_warmup_steps: int\n",
    "    num_training_steps: int \n",
    "    start_val: float\n",
    "    end_val: float\n",
    "    current_step: int = 0\n",
    "    num_cycles: float = 0.5\n",
    "\n",
    "    def step(self) -> float:\n",
    "        if self.current_step < self.num_warmup_steps:\n",
    "            r = self.start_val\n",
    "        elif self.current_step > self.num_training_steps:\n",
    "            r = self.end_val\n",
    "        else:        \n",
    "            progress = float(self.current_step - self.num_warmup_steps) / float(max(1, self.num_training_steps - self.num_warmup_steps))\n",
    "            r = max(self.end_val, 0.5 * (1.0 + math.cos(math.pi * float(self.num_cycles) * 2.0 * progress)))\n",
    "        self.current_step += 1\n",
    "        return r\n",
    "    "
   ]
  },
  {
   "cell_type": "code",
   "execution_count": 8,
   "metadata": {},
   "outputs": [
    {
     "data": {
      "text/plain": [
       "[<matplotlib.lines.Line2D at 0x21377616d10>]"
      ]
     },
     "execution_count": 8,
     "metadata": {},
     "output_type": "execute_result"
    },
    {
     "data": {
      "image/png": "[encoded data removed]",
      "text/plain": [
       "<Figure size 432x288 with 1 Axes>"
      ]
     },
     "metadata": {
      "needs_background": "light"
     },
     "output_type": "display_data"
    }
   ],
   "source": [
    "i=1\n",
    "plt.plot([i:=i*0.998 for j in range(2000)])"
   ]
  },
  {
   "cell_type": "code",
   "execution_count": 9,
   "metadata": {},
   "outputs": [
    {
     "data": {
      "text/plain": [
       "[<matplotlib.lines.Line2D at 0x2137a81c520>]"
      ]
     },
     "execution_count": 9,
     "metadata": {},
     "output_type": "execute_result"
    },
    {
     "data": {
      "image/png": "[encoded data removed]",
      "text/plain": [
       "<Figure size 432x288 with 1 Axes>"
      ]
     },
     "metadata": {
      "needs_background": "light"
     },
     "output_type": "display_data"
    }
   ],
   "source": [
    "eps_scheduler = CosWarmupScheduler(0, 1800, 1, 0)\n",
    "plt.plot([eps_scheduler.step() for i in range(2000)])"
   ]
  },
  {
   "cell_type": "code",
   "execution_count": 10,
   "metadata": {},
   "outputs": [
    {
     "name": "stdout",
     "output_type": "stream",
     "text": [
      "QNetworkMlp(\n",
      "  (net): Sequential(\n",
      "    (0): Linear(in_features=37, out_features=128, bias=True)\n",
      "    (1): ReLU()\n",
      "    (2): Linear(in_features=128, out_features=128, bias=True)\n",
      "    (3): ReLU()\n",
      "    (4): Linear(in_features=128, out_features=128, bias=True)\n",
      "    (5): ReLU()\n",
      "    (6): Linear(in_features=128, out_features=128, bias=True)\n",
      "    (7): ReLU()\n",
      "    (8): Linear(in_features=128, out_features=4, bias=True)\n",
      "  )\n",
      ")\n",
      "Episode 100\tAverage Score: -0.05; Eps: 0.8169296710790511\n",
      "Episode 200\tAverage Score: 1.22; Eps: 0.6687115105103473\n",
      "Episode 300\tAverage Score: 3.08; Eps: 0.5473850444168268\n",
      "Episode 400\tAverage Score: 4.71; Eps: 0.448071226742515\n",
      "Episode 500\tAverage Score: 6.33; Eps: 0.36677623234744455\n",
      "Episode 600\tAverage Score: 8.07; Eps: 0.3002308485483078\n",
      "Episode 700\tAverage Score: 9.02; Eps: 0.24575900636508355\n",
      "Episode 800\tAverage Score: 10.89; Eps: 0.20117016456366946\n",
      "Episode 900\tAverage Score: 11.26; Eps: 0.16467121880552807\n",
      "Episode 1000\tAverage Score: 11.96; Eps: 0.13479439340178997\n",
      "Episode 1100\tAverage Score: 12.30; Eps: 0.11033821589681822\n",
      "Episode 1179\tAverage Score: 13.02; Eps: 0.094\n",
      "Environment solved in 1079 episodes!\tAverage Score: 13.02\n"
     ]
    },
    {
     "data": {
      "image/png": "[encoded data removed]",
      "text/plain": [
       "<Figure size 432x288 with 1 Axes>"
      ]
     },
     "metadata": {
      "needs_background": "light"
     },
     "output_type": "display_data"
    },
    {
     "name": "stdout",
     "output_type": "stream",
     "text": [
      "CPU times: total: 1h 54min\n",
      "Wall time: 33min 16s\n"
     ]
    }
   ],
   "source": [
    "%%time\n",
    "\n",
    "agent = Agent(state_size=env.nS, action_size=env.nA, seed=seed)\n",
    "\n",
    "print(agent.qnetwork_local)\n",
    "def dqn(n_episodes=2000):\n",
    "    \"\"\"Deep Q-Learning.\n",
    "    \n",
    "    Params\n",
    "    ======\n",
    "        n_episodes (int): maximum number of training episodes\n",
    "        max_t (int): maximum number of timesteps per episode\n",
    "        eps_start (float): starting value of epsilon, for epsilon-greedy action selection\n",
    "        eps_end (float): minimum value of epsilon\n",
    "        eps_decay (float): multiplicative factor (per episode) for decreasing epsilon\n",
    "    \"\"\"\n",
    "    scores = []                        # list containing scores from each episode\n",
    "    scores_window = deque(maxlen=100)  # last 100 scores\n",
    "    #eps_scheduler = CosWarmupScheduler(0, 1800, 1, 0)  # initialize epsilon scheduler\n",
    "    i=1\n",
    "    eps_vals = [i:=i*0.998 for _ in range(n_episodes + 10)]\n",
    "\n",
    "    for i_episode in range(1, n_episodes+1):\n",
    "        state = env.reset(options={\"train_mode\": True})\n",
    "        done = False\n",
    "        score = 0\n",
    "        eps = eps_vals[i_episode]\n",
    "        while not done:\n",
    "            action = agent.act(state, eps)\n",
    "            next_state, reward, done, _ = env.step(action)\n",
    "            agent.step(state, action, reward, next_state, done)\n",
    "            state = next_state\n",
    "            score += reward\n",
    "        scores_window.append(score)       # save most recent score\n",
    "        scores.append(score)              # save most recent score\n",
    "        print('\\rEpisode {}\\tAverage Score: {:.2f}; Eps: {:.3f}'.format(i_episode, np.mean(scores_window), eps), end=\"\")\n",
    "        if i_episode % 100 == 0:\n",
    "            print('\\rEpisode {}\\tAverage Score: {:.2f}; Eps: {}'.format(i_episode, np.mean(scores_window), eps))\n",
    "        if np.mean(scores_window)>=13.0:\n",
    "            print('\\nEnvironment solved in {:d} episodes!\\tAverage Score: {:.2f}'.format(i_episode-100, np.mean(scores_window)))\n",
    "            torch.save(agent.qnetwork_local.state_dict(), 'checkpoint.pth')\n",
    "            break\n",
    "    return scores\n",
    "\n",
    "scores = dqn()\n",
    "#env.close()\n",
    "# plot the scores\n",
    "fig = plt.figure()\n",
    "ax = fig.add_subplot(111)\n",
    "plt.plot(np.arange(len(scores)), scores)\n",
    "plt.ylabel('Score')\n",
    "plt.xlabel('Episode #')\n",
    "plt.show()"
   ]
  },
  {
   "cell_type": "code",
   "execution_count": null,
   "metadata": {},
   "outputs": [],
   "source": []
  },
  {
   "cell_type": "code",
   "execution_count": null,
   "metadata": {},
   "outputs": [],
   "source": []
  },
  {
   "cell_type": "markdown",
   "metadata": {},
   "source": [
    "pip install stable_baselines3"
   ]
  }
 ],
 "metadata": {
  "interpreter": {
   "hash": "7ae41c531dae388d432c578af6f2c159705b5a45abf954f5c43dd5cfbfe0fa12"
  },
  "kernelspec": {
   "display_name": "Python 3.10.4 ('minirl')",
   "language": "python",
   "name": "python3"
  },
  "language_info": {
   "codemirror_mode": {
    "name": "ipython",
    "version": 3
   },
   "file_extension": ".py",
   "mimetype": "text/x-python",
   "name": "python",
   "nbconvert_exporter": "python",
   "pygments_lexer": "ipython3",
   "version": "3.10.4"
  }
 },
 "nbformat": 4,
 "nbformat_minor": 2
}
